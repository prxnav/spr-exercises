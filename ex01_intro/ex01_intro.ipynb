{
 "cells": [
  {
   "cell_type": "markdown",
   "metadata": {},
   "source": [
    "# Statistical Pattern Recognition - Exercise 1: Introduction"
   ]
  },
  {
   "cell_type": "code",
   "execution_count": 26,
   "metadata": {},
   "outputs": [],
   "source": [
    "%matplotlib inline\n",
    "import numpy as np\n",
    "import matplotlib.pyplot as plt\n",
    "from pathlib import Path\n",
    "\n",
    "data_dir = Path('../data')\n"
   ]
  },
  {
   "cell_type": "markdown",
   "metadata": {},
   "source": [
    "## $\\star$ Part 1: Pen and paper exercise\n",
    "\n",
    "Suppose we have three colored boxes r (red), b (blue), and g (green).\n",
    "Box r contains 3 apples, 4 oranges, and 3 limes,\n",
    "box b contains 1 apple, 1 orange and no limes,\n",
    "and box g contains 3 apples, 3 oranges, and 4 limes.\n",
    "A box is chosen at random with probabilities p(r) = 0.2, p(b) = 0.2, p(g) = 0.6\n",
    "and a piece of fruit is removed from the box with equal probability of selecting any of the items in the box.\n",
    "\n",
    "1. What is the probability of selecting an apple?\n",
    "2. If we observe that the selected fruit is in fact an orange, what is the probability that it came from the\n",
    "green box?\n"
   ]
  },
  {
   "cell_type": "markdown",
   "metadata": {},
   "source": [
    "## $\\star$ Part 2: Matrices\n",
    "\n",
    "**Note:** Complete the introduction to `numpy` and `matplotlib` in the `basics.ipynb` notebook first.\n",
    "\n",
    "### Part 2.1: Define a matrix and a vector and compute the result of a matrix-vector multiplication\n"
   ]
  },
  {
   "cell_type": "code",
   "execution_count": 39,
   "metadata": {},
   "outputs": [
    {
     "name": "stdout",
     "output_type": "stream",
     "text": [
      "Matrix : [[1 2 3]\n",
      " [4 5 6]\n",
      " [7 8 9]]  \n",
      " Vector : [0 1 2]\n",
      "Product : [ 8 17 26]\n"
     ]
    }
   ],
   "source": [
    "# START TODO #################\n",
    "matrix = np.arange(0,9)+1\n",
    "matrix.shape = 3,3\n",
    "\n",
    "vector = np.arange(3)\n",
    "\n",
    "\n",
    "product = matrix @ vector\n",
    "print(f'Matrix : {matrix}  \\n Vector : {vector}')\n",
    "print(f'Product : {product}')\n",
    "# END TODO ###################\n"
   ]
  },
  {
   "cell_type": "markdown",
   "metadata": {},
   "source": [
    "### Part 2.2: Invert the matrix"
   ]
  },
  {
   "cell_type": "code",
   "execution_count": 42,
   "metadata": {},
   "outputs": [
    {
     "name": "stdout",
     "output_type": "stream",
     "text": [
      "[[-1.04166667  0.58333333 -0.04166667]\n",
      " [ 0.08333333 -0.16666667  0.08333333]\n",
      " [ 0.625      -0.08333333 -0.04166667]]\n"
     ]
    }
   ],
   "source": [
    "# START TODO #################\n",
    "matrix[2,1] = 20\n",
    "inverse = np.linalg.inv(matrix)\n",
    "\n",
    "print(inverse)\n",
    "# END TODO ###################\n"
   ]
  },
  {
   "cell_type": "markdown",
   "metadata": {},
   "source": [
    "### Part 2.3: Plot the gaussian data\n",
    "\n",
    "**Note:** Datasets are stored in the npz format, see [numpy.load](https://numpy.org/doc/stable/reference/generated/numpy.load.html)\n",
    "\n",
    "The data is a collection of 2D points, choose a plotting method that works well for this kind of data.\n"
   ]
  },
  {
   "cell_type": "code",
   "execution_count": 45,
   "metadata": {},
   "outputs": [
    {
     "data": {
      "image/png": "[encoded data removed]",
      "text/plain": [
       "<Figure size 800x600 with 1 Axes>"
      ]
     },
     "metadata": {},
     "output_type": "display_data"
    }
   ],
   "source": [
    "# START TODO #################\n",
    "data_dir = Path('../data')\n",
    "gaussian = np.load(data_dir / \"gaussian.npz\")['arr_0']\n",
    "plt.figure(figsize = (8,6))\n",
    "plt.scatter(gaussian[: , 0] , gaussian[: , 1], label = \"gaussian\")\n",
    "plt.grid()\n",
    "plt.legend()\n",
    "plt.show()\n",
    "# END TODO ###################\n"
   ]
  },
  {
   "cell_type": "markdown",
   "metadata": {},
   "source": [
    "### Part 2.4: Plot the gaussianplus data"
   ]
  },
  {
   "cell_type": "code",
   "execution_count": null,
   "metadata": {},
   "outputs": [],
   "source": [
    "# START TODO #################\n",
    "gaussianplus = np.load(data_dir / \"gaussianplus.npz\")['arr_0']\n",
    "plt.figure(figsize=(8, 6))\n",
    "plt.scatter(gaussianplus[:, 0], gaussianplus[:, 1], label=\"gaussianplus\")\n",
    "plt.grid()\n",
    "plt.legend()\n",
    "plt.show()\n",
    "# END TODO ###################\n"
   ]
  },
  {
   "cell_type": "code",
   "execution_count": null,
   "metadata": {
    "collapsed": false,
    "jupyter": {
     "outputs_hidden": false
    }
   },
   "outputs": [],
   "source": []
  }
 ],
 "metadata": {
  "kernelspec": {
   "display_name": "Python 3",
   "language": "python",
   "name": "python3"
  },
  "language_info": {
   "codemirror_mode": {
    "name": "ipython",
    "version": 3
   },
   "file_extension": ".py",
   "mimetype": "text/x-python",
   "name": "python",
   "nbconvert_exporter": "python",
   "pygments_lexer": "ipython3",
   "version": "3.11.3"
  }
 },
 "nbformat": 4,
 "nbformat_minor": 4
}
